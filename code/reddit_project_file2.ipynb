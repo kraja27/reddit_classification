{
 "cells": [
  {
   "cell_type": "markdown",
   "metadata": {},
   "source": [
    "Rubric\n",
    "Your local instructor will evaluate your project (for the most part) using the following criteria.  You should make sure that you consider and/or follow most if not all of the considerations/recommendations outlined below **while** working through your project.\n",
    "\n",
    "For Project 3 the evaluation categories are as follows:<br>\n",
    "**The Data Science Process**\n",
    "- Problem Statement\n",
    "- Data Collection\n",
    "- Data Cleaning & EDA\n",
    "- Preprocessing & Modeling\n",
    "- Evaluation and Conceptual Understanding\n",
    "- Conclusion and Recommendations\n",
    "\n",
    "**Organization and Professionalism**\n",
    "- Organization\n",
    "- Visualizations\n",
    "- Python Syntax and Control Flow\n",
    "- Presentation\n",
    "\n",
    "**Scores will be out of 30 points based on the 10 categories in the rubric.** <br>\n",
    "*3 points per section*<br>\n",
    "\n",
    "| Score | Interpretation |\n",
    "| --- | --- |\n",
    "| **0** | *Project fails to meet the minimum requirements for this item.* |\n",
    "| **1** | *Project meets the minimum requirements for this item, but falls significantly short of portfolio-ready expectations.* |\n",
    "| **2** | *Project exceeds the minimum requirements for this item, but falls short of portfolio-ready expectations.* |\n",
    "| **3** | *Project meets or exceeds portfolio-ready expectations; demonstrates a thorough understanding of every outlined consideration.* |\n",
    "\n",
    "\n",
    "### The Data Science Process\n",
    "\n",
    "**Problem Statement**\n",
    "- Is it clear what the goal of the project is?\n",
    "- What type of model will be developed?\n",
    "- How will success be evaluated?\n",
    "- Is the scope of the project appropriate?\n",
    "- Is it clear who cares about this or why this is important to investigate?\n",
    "- Does the student consider the audience and the primary and secondary stakeholders?\n",
    "\n",
    "**Data Collection**\n",
    "- Was enough data gathered to generate a significant result?\n",
    "- Was data collected that was useful and relevant to the project?\n",
    "- Was data collection and storage optimized through custom functions, pipelines, and/or automation?\n",
    "- Was thought given to the server receiving the requests such as considering number of requests per second?\n",
    "\n",
    "**Data Cleaning and EDA**\n",
    "- Are missing values imputed/handled appropriately?\n",
    "- Are distributions examined and described?\n",
    "- Are outliers identified and addressed?\n",
    "- Are appropriate summary statistics provided?\n",
    "- Are steps taken during data cleaning and EDA framed appropriately?\n",
    "- Does the student address whether or not they are likely to be able to answer their problem statement with the provided data given what they've discovered during EDA?\n",
    "\n",
    "**Preprocessing and Modeling**\n",
    "- Is text data successfully converted to a matrix representation?\n",
    "- Are methods such as stop words, stemming, and lemmatization explored?\n",
    "- Does the student properly split and/or sample the data for validation/training purposes?\n",
    "- Does the student test and evaluate a variety of models to identify a production algorithm (**AT MINIMUM:** Bayes and one other model)?\n",
    "- Does the student defend their choice of production model relevant to the data at hand and the problem?\n",
    "- Does the student explain how the model works and evaluate its performance successes/downfalls?\n",
    "\n",
    "**Evaluation and Conceptual Understanding**\n",
    "- Does the student accurately identify and explain the baseline score?\n",
    "- Does the student select and use metrics relevant to the problem objective?\n",
    "- Does the student interpret the results of their model for purposes of inference?\n",
    "- Is domain knowledge demonstrated when interpreting results?\n",
    "- Does the student provide appropriate interpretation with regards to descriptive and inferential statistics?\n",
    "\n",
    "**Conclusion and Recommendations**\n",
    "- Does the student provide appropriate context to connect individual steps back to the overall project?\n",
    "- Is it clear how the final recommendations were reached?\n",
    "- Are the conclusions/recommendations clearly stated?\n",
    "- Does the conclusion answer the original problem statement?\n",
    "- Does the student address how findings of this research can be applied for the benefit of stakeholders?\n",
    "- Are future steps to move the project forward identified?\n",
    "\n",
    "\n",
    "### Organization and Professionalism\n",
    "\n",
    "**Project Organization**\n",
    "- Are modules imported correctly (using appropriate aliases)?\n",
    "- Are data imported/saved using relative paths?\n",
    "- Does the README provide a good executive summary of the project?\n",
    "- Is markdown formatting used appropriately to structure notebooks?\n",
    "- Are there an appropriate amount of comments to support the code?\n",
    "- Are files & directories organized correctly?\n",
    "- Are there unnecessary files included?\n",
    "- Do files and directories have well-structured, appropriate, consistent names?\n",
    "\n",
    "**Visualizations**\n",
    "- Are sufficient visualizations provided?\n",
    "- Do plots accurately demonstrate valid relationships?\n",
    "- Are plots labeled properly?\n",
    "- Are plots interpreted appropriately?\n",
    "- Are plots formatted and scaled appropriately for inclusion in a notebook-based technical report?\n",
    "\n",
    "**Python Syntax and Control Flow**\n",
    "- Is care taken to write human readable code?\n",
    "- Is the code syntactically correct (no runtime errors)?\n",
    "- Does the code generate desired results (logically correct)?\n",
    "- Does the code follows general best practices and style guidelines?\n",
    "- Are Pandas functions used appropriately?\n",
    "- Are `sklearn` and `NLTK` methods used appropriately?\n",
    "\n",
    "**Presentation**\n",
    "- Is the problem statement clearly presented?\n",
    "- Does a strong narrative run through the presentation building toward a final conclusion?\n",
    "- Are the conclusions/recommendations clearly stated?\n",
    "- Is the level of technicality appropriate for the intended audience?\n",
    "- Is the student substantially over or under time?\n",
    "- Does the student appropriately pace their presentation?\n",
    "- Does the student deliver their message with clarity and volume?\n",
    "- Are appropriate visualizations generated for the intended audience?\n",
    "- Are visualizations necessary and useful for supporting conclusions/explaining findings?\n"
   ]
  },
  {
   "cell_type": "markdown",
   "metadata": {},
   "source": [
    "## Executive Summary"
   ]
  },
  {
   "cell_type": "markdown",
   "metadata": {},
   "source": [
    "To address the challenge of finding the correct reddit post, our first strategy is to finalize a good reddit source for comparing the two popular sports Soccer and Cricekt. While most of us think Soccer as the most popular sports, data told us a different story. Cricket is played around 50 countries with 2.5 billion fans while football is played in over 200 countries with 3.5 billion fans. In other words per country there are 50 million cricket fans compared to 17.5 million football fans. It was a challenge to get a correct key word for the amount of data that we needed. We started with specific clubs of these sports and generalized to get enough data. \n",
    "\n",
    "Another challenge we were having was getting enough data (our target was close to 2000 records in each subreddit). I had to change the day window to attain this objective. Once I adjusted the day window to 15 and appropriate fequency I was able to collect enough data for training our models.\n",
    "\n",
    "After extracting the blog post data next decision we had to make was what column or columns needs to be my X. We were inclined to use 'Title' and 'Self text' consdering the relevance of the contents. But after reviewing the shape of data and Null values we have decided to use only 'Title' as 'Self Text' was not adding much value in training my model.  \n",
    "\n",
    "EDA helped me set up a preprocessing plan for our model. For preprocessing, I had created a fucntion that used regex, lemmatizatizer which removed punctuation and stopwords. For modeling, I used  TFIDF and Count vetorizers. They brought context of word choices into play, which will give us a better understanding of the group of words used in a reddit blog post about the sports we are analyzing.\n",
    " \n",
    "Machines had no problem understanding the blog posts, after using vectorizers."
   ]
  },
  {
   "cell_type": "markdown",
   "metadata": {},
   "source": [
    "## Problem Statement"
   ]
  },
  {
   "cell_type": "markdown",
   "metadata": {},
   "source": [
    "ESPN has hired DevJee Inc. to address a data collection issue in their market research team. The market research team is responsible for analyzing  and compiling online fan participation in two major sports viz. Cricket and Soccer. The feeds are coming from Subreddit blogs.\n",
    "The issue we are facing is the team of interns that collects the data doesn't have much idea of these sports and mixes the blogs before passing it to the research team. We are tasked to come out with a solution that correctly identifies the type of blogs.\n",
    "  - We will be using Using Pushshift's API to collect the data from subreddits of Cricket and Soccer.  \n",
    "  - We will use NLP to train a classifier on which subreddit a given post came from. \n",
    "  - We will be using 1) Testing Accuracy Score 2) Confusion Matrix 3) ROC Curve to evaluate our best model\n"
   ]
  },
  {
   "cell_type": "markdown",
   "metadata": {},
   "source": [
    "![title](../images/Cric_Soccer.png)"
   ]
  },
  {
   "cell_type": "markdown",
   "metadata": {},
   "source": [
    "### Importing Libraries"
   ]
  },
  {
   "cell_type": "code",
   "execution_count": 1,
   "metadata": {},
   "outputs": [],
   "source": [
    "import numpy as np\n",
    "import pandas as pd\n",
    "import datetime as dt\n",
    "import time\n",
    "import requests\n",
    "\n",
    "import seaborn as sns\n",
    "import matplotlib.pyplot as plt\n",
    "\n",
    "from sklearn.pipeline import Pipeline\n",
    "from sklearn.model_selection import cross_val_score, train_test_split, GridSearchCV\n",
    "from sklearn.linear_model import LogisticRegression\n",
    "\n",
    "from sklearn.feature_extraction.stop_words import ENGLISH_STOP_WORDS as stopwords\n",
    "from sklearn.feature_extraction.text import CountVectorizer, TfidfVectorizer\n",
    "from sklearn.metrics import confusion_matrix\n",
    "\n",
    "import pandas as pd\n",
    "from sklearn.model_selection import train_test_split, GridSearchCV\n",
    "from sklearn.pipeline import Pipeline\n",
    "from sklearn.linear_model import LogisticRegression\n",
    "from sklearn.naive_bayes import MultinomialNB\n",
    "from sklearn.ensemble import RandomForestClassifier, ExtraTreesClassifier\n",
    "\n",
    "import datetime as dt\n",
    "import time\n",
    "\n",
    "from sklearn.metrics import roc_auc_score\n",
    "\n",
    "# Import CountVectorizer and TFIDFVectorizer from feature_extraction.text.\n",
    "from sklearn.feature_extraction.text import CountVectorizer, TfidfVectorizer\n",
    "import regex as re\n",
    "import nltk\n",
    "from nltk.stem import WordNetLemmatizer\n",
    "import warnings\n",
    "warnings.filterwarnings(\"ignore\") \n",
    "\n",
    "#importing GaussianNB\n",
    "\n",
    "from sklearn.naive_bayes import GaussianNB\n",
    "from sklearn.base import TransformerMixin # this allows us to create a custom transformer\n",
    "\n",
    "%matplotlib inline"
   ]
  },
  {
   "cell_type": "markdown",
   "metadata": {},
   "source": [
    "## Data Collection"
   ]
  },
  {
   "cell_type": "code",
   "execution_count": 2,
   "metadata": {},
   "outputs": [],
   "source": [
    "#Read the data for Cricket\n",
    "df_cricket = pd.read_csv(\"../data/cricket.csv\",index_col=0)"
   ]
  },
  {
   "cell_type": "code",
   "execution_count": 3,
   "metadata": {},
   "outputs": [],
   "source": [
    "#Read the data for Soccer\n",
    "df_soccer = pd.read_csv(\"../data/soccer.csv\", index_col=0)"
   ]
  },
  {
   "cell_type": "code",
   "execution_count": 4,
   "metadata": {},
   "outputs": [
    {
     "data": {
      "text/html": [
       "<div>\n",
       "<style scoped>\n",
       "    .dataframe tbody tr th:only-of-type {\n",
       "        vertical-align: middle;\n",
       "    }\n",
       "\n",
       "    .dataframe tbody tr th {\n",
       "        vertical-align: top;\n",
       "    }\n",
       "\n",
       "    .dataframe thead th {\n",
       "        text-align: right;\n",
       "    }\n",
       "</style>\n",
       "<table border=\"1\" class=\"dataframe\">\n",
       "  <thead>\n",
       "    <tr style=\"text-align: right;\">\n",
       "      <th></th>\n",
       "      <th>title</th>\n",
       "      <th>selftext</th>\n",
       "      <th>subreddit</th>\n",
       "      <th>created_utc</th>\n",
       "      <th>author</th>\n",
       "      <th>num_comments</th>\n",
       "      <th>score</th>\n",
       "      <th>is_self</th>\n",
       "      <th>timestamp</th>\n",
       "    </tr>\n",
       "  </thead>\n",
       "  <tbody>\n",
       "    <tr>\n",
       "      <th>0</th>\n",
       "      <td>How Far Away Is The Standard Of Women's Cricke...</td>\n",
       "      <td>Hey, guys, I was wondering how far away do you...</td>\n",
       "      <td>Cricket</td>\n",
       "      <td>1578939100</td>\n",
       "      <td>Equivalent-Winner</td>\n",
       "      <td>10</td>\n",
       "      <td>1</td>\n",
       "      <td>True</td>\n",
       "      <td>2020-01-13</td>\n",
       "    </tr>\n",
       "    <tr>\n",
       "      <th>6</th>\n",
       "      <td>Nitro Strength Muscle supplement</td>\n",
       "      <td>[removed]</td>\n",
       "      <td>Cricket</td>\n",
       "      <td>1578946035</td>\n",
       "      <td>Jonson15555</td>\n",
       "      <td>0</td>\n",
       "      <td>1</td>\n",
       "      <td>True</td>\n",
       "      <td>2020-01-13</td>\n",
       "    </tr>\n",
       "    <tr>\n",
       "      <th>13</th>\n",
       "      <td>In International Test Cricket, What Was The Be...</td>\n",
       "      <td>Hey, guys IMO Brendon McCullum's 302 vs India ...</td>\n",
       "      <td>Cricket</td>\n",
       "      <td>1578950019</td>\n",
       "      <td>Equivalent-Winner</td>\n",
       "      <td>10</td>\n",
       "      <td>1</td>\n",
       "      <td>True</td>\n",
       "      <td>2020-01-13</td>\n",
       "    </tr>\n",
       "    <tr>\n",
       "      <th>15</th>\n",
       "      <td>Why Is Cricket Not Played At The Olympics?</td>\n",
       "      <td>I believe there was a cricket tournament playe...</td>\n",
       "      <td>Cricket</td>\n",
       "      <td>1578952373</td>\n",
       "      <td>Equivalent-Winner</td>\n",
       "      <td>14</td>\n",
       "      <td>1</td>\n",
       "      <td>True</td>\n",
       "      <td>2020-01-13</td>\n",
       "    </tr>\n",
       "    <tr>\n",
       "      <th>17</th>\n",
       "      <td>Who is the Cricketer of the Decade?</td>\n",
       "      <td>1. **Virat Kohli**\\n2. **Ab Devillers**\\n3. **...</td>\n",
       "      <td>Cricket</td>\n",
       "      <td>1578953445</td>\n",
       "      <td>Mudasariqbal</td>\n",
       "      <td>7</td>\n",
       "      <td>1</td>\n",
       "      <td>True</td>\n",
       "      <td>2020-01-13</td>\n",
       "    </tr>\n",
       "  </tbody>\n",
       "</table>\n",
       "</div>"
      ],
      "text/plain": [
       "                                                title  \\\n",
       "0   How Far Away Is The Standard Of Women's Cricke...   \n",
       "6                    Nitro Strength Muscle supplement   \n",
       "13  In International Test Cricket, What Was The Be...   \n",
       "15         Why Is Cricket Not Played At The Olympics?   \n",
       "17                Who is the Cricketer of the Decade?   \n",
       "\n",
       "                                             selftext subreddit  created_utc  \\\n",
       "0   Hey, guys, I was wondering how far away do you...   Cricket   1578939100   \n",
       "6                                           [removed]   Cricket   1578946035   \n",
       "13  Hey, guys IMO Brendon McCullum's 302 vs India ...   Cricket   1578950019   \n",
       "15  I believe there was a cricket tournament playe...   Cricket   1578952373   \n",
       "17  1. **Virat Kohli**\\n2. **Ab Devillers**\\n3. **...   Cricket   1578953445   \n",
       "\n",
       "               author  num_comments  score  is_self   timestamp  \n",
       "0   Equivalent-Winner            10      1     True  2020-01-13  \n",
       "6         Jonson15555             0      1     True  2020-01-13  \n",
       "13  Equivalent-Winner            10      1     True  2020-01-13  \n",
       "15  Equivalent-Winner            14      1     True  2020-01-13  \n",
       "17       Mudasariqbal             7      1     True  2020-01-13  "
      ]
     },
     "execution_count": 4,
     "metadata": {},
     "output_type": "execute_result"
    }
   ],
   "source": [
    "df_cricket.head()"
   ]
  },
  {
   "cell_type": "code",
   "execution_count": 5,
   "metadata": {},
   "outputs": [
    {
     "data": {
      "text/plain": [
       "(2458, 9)"
      ]
     },
     "execution_count": 5,
     "metadata": {},
     "output_type": "execute_result"
    }
   ],
   "source": [
    "df_cricket.shape"
   ]
  },
  {
   "cell_type": "code",
   "execution_count": 6,
   "metadata": {},
   "outputs": [
    {
     "data": {
      "text/html": [
       "<div>\n",
       "<style scoped>\n",
       "    .dataframe tbody tr th:only-of-type {\n",
       "        vertical-align: middle;\n",
       "    }\n",
       "\n",
       "    .dataframe tbody tr th {\n",
       "        vertical-align: top;\n",
       "    }\n",
       "\n",
       "    .dataframe thead th {\n",
       "        text-align: right;\n",
       "    }\n",
       "</style>\n",
       "<table border=\"1\" class=\"dataframe\">\n",
       "  <thead>\n",
       "    <tr style=\"text-align: right;\">\n",
       "      <th></th>\n",
       "      <th>title</th>\n",
       "      <th>selftext</th>\n",
       "      <th>subreddit</th>\n",
       "      <th>created_utc</th>\n",
       "      <th>author</th>\n",
       "      <th>num_comments</th>\n",
       "      <th>score</th>\n",
       "      <th>is_self</th>\n",
       "      <th>timestamp</th>\n",
       "    </tr>\n",
       "  </thead>\n",
       "  <tbody>\n",
       "    <tr>\n",
       "      <th>6</th>\n",
       "      <td>Can someone explain to me how to U23 system wo...</td>\n",
       "      <td>I just watched YouTube highlight video from Ev...</td>\n",
       "      <td>soccer</td>\n",
       "      <td>1579370480</td>\n",
       "      <td>coco4shade</td>\n",
       "      <td>33</td>\n",
       "      <td>1</td>\n",
       "      <td>True</td>\n",
       "      <td>2020-01-18</td>\n",
       "    </tr>\n",
       "    <tr>\n",
       "      <th>8</th>\n",
       "      <td>hi</td>\n",
       "      <td>[removed]</td>\n",
       "      <td>soccer</td>\n",
       "      <td>1579370636</td>\n",
       "      <td>CecileSmith11</td>\n",
       "      <td>0</td>\n",
       "      <td>1</td>\n",
       "      <td>True</td>\n",
       "      <td>2020-01-18</td>\n",
       "    </tr>\n",
       "    <tr>\n",
       "      <th>14</th>\n",
       "      <td>hi</td>\n",
       "      <td>[removed]</td>\n",
       "      <td>soccer</td>\n",
       "      <td>1579371306</td>\n",
       "      <td>CecileSmith11</td>\n",
       "      <td>0</td>\n",
       "      <td>1</td>\n",
       "      <td>True</td>\n",
       "      <td>2020-01-18</td>\n",
       "    </tr>\n",
       "    <tr>\n",
       "      <th>22</th>\n",
       "      <td>hi</td>\n",
       "      <td>[removed]</td>\n",
       "      <td>soccer</td>\n",
       "      <td>1579371939</td>\n",
       "      <td>CecileSmith11</td>\n",
       "      <td>0</td>\n",
       "      <td>1</td>\n",
       "      <td>True</td>\n",
       "      <td>2020-01-18</td>\n",
       "    </tr>\n",
       "    <tr>\n",
       "      <th>23</th>\n",
       "      <td>In most countries the word for goal has the sa...</td>\n",
       "      <td>[removed]</td>\n",
       "      <td>soccer</td>\n",
       "      <td>1579371966</td>\n",
       "      <td>barbapapi_</td>\n",
       "      <td>0</td>\n",
       "      <td>1</td>\n",
       "      <td>True</td>\n",
       "      <td>2020-01-18</td>\n",
       "    </tr>\n",
       "  </tbody>\n",
       "</table>\n",
       "</div>"
      ],
      "text/plain": [
       "                                                title  \\\n",
       "6   Can someone explain to me how to U23 system wo...   \n",
       "8                                                  hi   \n",
       "14                                                 hi   \n",
       "22                                                 hi   \n",
       "23  In most countries the word for goal has the sa...   \n",
       "\n",
       "                                             selftext subreddit  created_utc  \\\n",
       "6   I just watched YouTube highlight video from Ev...    soccer   1579370480   \n",
       "8                                           [removed]    soccer   1579370636   \n",
       "14                                          [removed]    soccer   1579371306   \n",
       "22                                          [removed]    soccer   1579371939   \n",
       "23                                          [removed]    soccer   1579371966   \n",
       "\n",
       "           author  num_comments  score  is_self   timestamp  \n",
       "6      coco4shade            33      1     True  2020-01-18  \n",
       "8   CecileSmith11             0      1     True  2020-01-18  \n",
       "14  CecileSmith11             0      1     True  2020-01-18  \n",
       "22  CecileSmith11             0      1     True  2020-01-18  \n",
       "23     barbapapi_             0      1     True  2020-01-18  "
      ]
     },
     "execution_count": 6,
     "metadata": {},
     "output_type": "execute_result"
    }
   ],
   "source": [
    "df_soccer.head()"
   ]
  },
  {
   "cell_type": "code",
   "execution_count": 7,
   "metadata": {},
   "outputs": [
    {
     "data": {
      "text/plain": [
       "(2059, 9)"
      ]
     },
     "execution_count": 7,
     "metadata": {},
     "output_type": "execute_result"
    }
   ],
   "source": [
    "df_soccer.shape"
   ]
  },
  {
   "cell_type": "code",
   "execution_count": 8,
   "metadata": {},
   "outputs": [],
   "source": [
    "# combining both the dataframes using concatenate\n",
    "combined_df = pd.concat(objs = [df_cricket, df_soccer],\n",
    "                    axis = 0)"
   ]
  },
  {
   "cell_type": "code",
   "execution_count": 9,
   "metadata": {},
   "outputs": [
    {
     "data": {
      "text/plain": [
       "(4517, 9)"
      ]
     },
     "execution_count": 9,
     "metadata": {},
     "output_type": "execute_result"
    }
   ],
   "source": [
    "combined_df.shape"
   ]
  },
  {
   "cell_type": "markdown",
   "metadata": {},
   "source": [
    "## Data Cleaning & EDA"
   ]
  },
  {
   "cell_type": "code",
   "execution_count": 10,
   "metadata": {},
   "outputs": [
    {
     "data": {
      "text/plain": [
       "title            0\n",
       "selftext        70\n",
       "subreddit        0\n",
       "created_utc      0\n",
       "author           0\n",
       "num_comments     0\n",
       "score            0\n",
       "is_self          0\n",
       "timestamp        0\n",
       "dtype: int64"
      ]
     },
     "execution_count": 10,
     "metadata": {},
     "output_type": "execute_result"
    }
   ],
   "source": [
    "#checking for Null values in the dataframe\n",
    "#combined_df[combined_df.isnull().any(axis=1)]\n",
    "combined_df.isnull().sum()"
   ]
  },
  {
   "cell_type": "code",
   "execution_count": 11,
   "metadata": {},
   "outputs": [
    {
     "data": {
      "text/plain": [
       "0"
      ]
     },
     "execution_count": 11,
     "metadata": {},
     "output_type": "execute_result"
    }
   ],
   "source": [
    "#checking for duplicates\n",
    "combined_df.duplicated().sum()"
   ]
  },
  {
   "cell_type": "code",
   "execution_count": 12,
   "metadata": {},
   "outputs": [
    {
     "data": {
      "text/plain": [
       "count        4517\n",
       "unique          2\n",
       "top       Cricket\n",
       "freq         2458\n",
       "Name: subreddit, dtype: object"
      ]
     },
     "execution_count": 12,
     "metadata": {},
     "output_type": "execute_result"
    }
   ],
   "source": [
    "#Checking that data in our target column 'cAGR'\n",
    "combined_df['subreddit'].describe()"
   ]
  },
  {
   "cell_type": "code",
   "execution_count": 13,
   "metadata": {},
   "outputs": [],
   "source": [
    "#converting the categorical columns 'Cricket' and 'soccer' to 1 and 0\n",
    "combined_df['subreddit'] = combined_df['subreddit'].map({'Cricket': 1, 'soccer': 0})"
   ]
  },
  {
   "cell_type": "code",
   "execution_count": 14,
   "metadata": {},
   "outputs": [
    {
     "data": {
      "text/plain": [
       "count    4517.000000\n",
       "mean        0.544166\n",
       "std         0.498101\n",
       "min         0.000000\n",
       "25%         0.000000\n",
       "50%         1.000000\n",
       "75%         1.000000\n",
       "max         1.000000\n",
       "Name: subreddit, dtype: float64"
      ]
     },
     "execution_count": 14,
     "metadata": {},
     "output_type": "execute_result"
    }
   ],
   "source": [
    "combined_df['subreddit'].describe()"
   ]
  },
  {
   "cell_type": "code",
   "execution_count": 15,
   "metadata": {},
   "outputs": [
    {
     "data": {
      "text/plain": [
       "count                             4517\n",
       "unique                            4319\n",
       "top       공식 스포츠토토 — 안전놀이터 추천 by happy\n",
       "freq                                27\n",
       "Name: title, dtype: object"
      ]
     },
     "execution_count": 15,
     "metadata": {},
     "output_type": "execute_result"
    }
   ],
   "source": [
    "combined_df['title'].describe()"
   ]
  },
  {
   "cell_type": "code",
   "execution_count": 16,
   "metadata": {},
   "outputs": [],
   "source": [
    "combined_df['selftext'] = combined_df['selftext'].str.replace('removed','')\n",
    "combined_df['selftext'] = combined_df['selftext'].str.replace('[','')\n",
    "combined_df['selftext'] = combined_df['selftext'].str.replace(']','')"
   ]
  },
  {
   "cell_type": "markdown",
   "metadata": {},
   "source": [
    "### Understaning the day wise trend of posts."
   ]
  },
  {
   "cell_type": "code",
   "execution_count": 17,
   "metadata": {},
   "outputs": [
    {
     "data": {
      "text/plain": [
       "datetime.date(2020, 1, 20)"
      ]
     },
     "execution_count": 17,
     "metadata": {},
     "output_type": "execute_result"
    }
   ],
   "source": [
    "# AN ASIDE: using dt.date.fromtimestamp\n",
    "dt.date.fromtimestamp(1579572662) # converts epoch time to datetime"
   ]
  },
  {
   "cell_type": "code",
   "execution_count": 18,
   "metadata": {},
   "outputs": [
    {
     "data": {
      "text/plain": [
       "0     2020-01-13\n",
       "6     2020-01-13\n",
       "13    2020-01-13\n",
       "15    2020-01-13\n",
       "17    2020-01-13\n",
       "Name: timestamp, dtype: object"
      ]
     },
     "execution_count": 18,
     "metadata": {},
     "output_type": "execute_result"
    }
   ],
   "source": [
    "# Creating `timestamp` column using `created_utc` column\n",
    "combined_df[\"timestamp\"] = combined_df[\"created_utc\"].map(dt.date.fromtimestamp)\n",
    "combined_df[\"timestamp\"].head()"
   ]
  },
  {
   "cell_type": "code",
   "execution_count": 19,
   "metadata": {},
   "outputs": [
    {
     "data": {
      "text/plain": [
       "array([0, 1, 2, 3, 4, 6, 5])"
      ]
     },
     "execution_count": 19,
     "metadata": {},
     "output_type": "execute_result"
    }
   ],
   "source": [
    "#making the days into an array of numbers\n",
    "combined_df['timestamp'] = pd.to_datetime(combined_df.timestamp) \n",
    "combined_df['day'] = combined_df['timestamp'].dt.dayofweek\n",
    "combined_df['day'].unique()"
   ]
  },
  {
   "cell_type": "code",
   "execution_count": 20,
   "metadata": {},
   "outputs": [
    {
     "data": {
      "text/plain": [
       "array(['Monday', 'Tuesday', 'Wednsday', 'Thursday', 'Friday', 'Sunday',\n",
       "       'Saturday'], dtype=object)"
      ]
     },
     "execution_count": 20,
     "metadata": {},
     "output_type": "execute_result"
    }
   ],
   "source": [
    "# assigning key value to the weekdays from Monday thru Friday using .map method.\n",
    "combined_df['weekday'] = combined_df['day'].map({0: 'Monday', \n",
    "                               1: 'Tuesday',\n",
    "                               2: 'Wednsday',\n",
    "                               3: 'Thursday',\n",
    "                               4: 'Friday',\n",
    "                               5: 'Saturday',\n",
    "                               6: 'Sunday'})\n",
    "combined_df['weekday'].unique()"
   ]
  },
  {
   "cell_type": "code",
   "execution_count": 21,
   "metadata": {},
   "outputs": [
    {
     "data": {
      "text/plain": [
       "Saturday    783\n",
       "Sunday      739\n",
       "Tuesday     707\n",
       "Wednsday    694\n",
       "Monday      567\n",
       "Thursday    518\n",
       "Friday      509\n",
       "Name: weekday, dtype: int64"
      ]
     },
     "execution_count": 21,
     "metadata": {},
     "output_type": "execute_result"
    }
   ],
   "source": [
    "#finding the daywise totals of the comments.\n",
    "combined_df['weekday'].value_counts()"
   ]
  },
  {
   "cell_type": "code",
   "execution_count": 22,
   "metadata": {
    "scrolled": true
   },
   "outputs": [
    {
     "data": {
      "image/png": "[encoded data removed]",
      "text/plain": [
       "<Figure size 720x360 with 1 Axes>"
      ]
     },
     "metadata": {
      "needs_background": "light"
     },
     "output_type": "display_data"
    }
   ],
   "source": [
    "#Plot of posts traffic - Day wise\n",
    "plt.figure(figsize=(10,5))\n",
    "sns.set_style('darkgrid')\n",
    "plt.title('Traffic - Daywise')\n",
    "sns.countplot(data=combined_df,\n",
    "              y='weekday', \n",
    "              order = combined_df['weekday'].value_counts().index,\n",
    "              palette=\"GnBu_r\");"
   ]
  },
  {
   "cell_type": "markdown",
   "metadata": {},
   "source": [
    "### Most commented posts"
   ]
  },
  {
   "cell_type": "code",
   "execution_count": 23,
   "metadata": {},
   "outputs": [
    {
     "data": {
      "text/html": [
       "<div>\n",
       "<style scoped>\n",
       "    .dataframe tbody tr th:only-of-type {\n",
       "        vertical-align: middle;\n",
       "    }\n",
       "\n",
       "    .dataframe tbody tr th {\n",
       "        vertical-align: top;\n",
       "    }\n",
       "\n",
       "    .dataframe thead th {\n",
       "        text-align: right;\n",
       "    }\n",
       "</style>\n",
       "<table border=\"1\" class=\"dataframe\">\n",
       "  <thead>\n",
       "    <tr style=\"text-align: right;\">\n",
       "      <th></th>\n",
       "      <th>title</th>\n",
       "      <th>selftext</th>\n",
       "      <th>subreddit</th>\n",
       "      <th>created_utc</th>\n",
       "      <th>author</th>\n",
       "      <th>num_comments</th>\n",
       "      <th>score</th>\n",
       "      <th>is_self</th>\n",
       "      <th>timestamp</th>\n",
       "      <th>day</th>\n",
       "      <th>weekday</th>\n",
       "    </tr>\n",
       "  </thead>\n",
       "  <tbody>\n",
       "    <tr>\n",
       "      <th>44</th>\n",
       "      <td>Match Thread: 1st ODI - India v Australia</td>\n",
       "      <td>1st ODI - India v Australia</td>\n",
       "      <td>1</td>\n",
       "      <td>1578982362</td>\n",
       "      <td>CricketMatchBot</td>\n",
       "      <td>14378</td>\n",
       "      <td>1</td>\n",
       "      <td>True</td>\n",
       "      <td>2020-01-14</td>\n",
       "      <td>1</td>\n",
       "      <td>Tuesday</td>\n",
       "    </tr>\n",
       "    <tr>\n",
       "      <th>467</th>\n",
       "      <td>Match Thread: 2nd ODI - India v Australia</td>\n",
       "      <td>2nd ODI - India v Australia</td>\n",
       "      <td>1</td>\n",
       "      <td>1579241683</td>\n",
       "      <td>CricketMatchBot</td>\n",
       "      <td>15126</td>\n",
       "      <td>1</td>\n",
       "      <td>True</td>\n",
       "      <td>2020-01-17</td>\n",
       "      <td>4</td>\n",
       "      <td>Friday</td>\n",
       "    </tr>\n",
       "    <tr>\n",
       "      <th>479</th>\n",
       "      <td>Match Thread: 3rd Test - Australia v New Zeala...</td>\n",
       "      <td>###3rd Test, ICC World Test Championship at Sy...</td>\n",
       "      <td>1</td>\n",
       "      <td>1578001159</td>\n",
       "      <td>CricketMatchBot</td>\n",
       "      <td>14182</td>\n",
       "      <td>332</td>\n",
       "      <td>True</td>\n",
       "      <td>2020-01-02</td>\n",
       "      <td>3</td>\n",
       "      <td>Thursday</td>\n",
       "    </tr>\n",
       "    <tr>\n",
       "      <th>61</th>\n",
       "      <td>Match Thread: 2nd Test - England v Australia, ...</td>\n",
       "      <td>2nd Test - England v Australia, Day 4</td>\n",
       "      <td>1</td>\n",
       "      <td>1566029688</td>\n",
       "      <td>CricketMatchBot</td>\n",
       "      <td>13182</td>\n",
       "      <td>310</td>\n",
       "      <td>True</td>\n",
       "      <td>2019-08-17</td>\n",
       "      <td>5</td>\n",
       "      <td>Saturday</td>\n",
       "    </tr>\n",
       "    <tr>\n",
       "      <th>216</th>\n",
       "      <td>Match Thread: 2nd Test - England v Australia, ...</td>\n",
       "      <td>2nd Test - England v Australia, Day 5</td>\n",
       "      <td>1</td>\n",
       "      <td>1566116021</td>\n",
       "      <td>CricketMatchBot</td>\n",
       "      <td>12662</td>\n",
       "      <td>346</td>\n",
       "      <td>True</td>\n",
       "      <td>2019-08-18</td>\n",
       "      <td>6</td>\n",
       "      <td>Sunday</td>\n",
       "    </tr>\n",
       "    <tr>\n",
       "      <th>96</th>\n",
       "      <td>Match Thread: 1st Test - England v Australia, ...</td>\n",
       "      <td>1st Test - England v Australia, Day 2</td>\n",
       "      <td>1</td>\n",
       "      <td>1564733461</td>\n",
       "      <td>CricketMatchBot</td>\n",
       "      <td>10263</td>\n",
       "      <td>413</td>\n",
       "      <td>True</td>\n",
       "      <td>2019-08-02</td>\n",
       "      <td>4</td>\n",
       "      <td>Friday</td>\n",
       "    </tr>\n",
       "    <tr>\n",
       "      <th>370</th>\n",
       "      <td>Match Thread: 1st Test - England v Australia, ...</td>\n",
       "      <td>1st Test - England v Australia, Day 4</td>\n",
       "      <td>1</td>\n",
       "      <td>1564906164</td>\n",
       "      <td>CricketMatchBot</td>\n",
       "      <td>13813</td>\n",
       "      <td>386</td>\n",
       "      <td>True</td>\n",
       "      <td>2019-08-04</td>\n",
       "      <td>6</td>\n",
       "      <td>Sunday</td>\n",
       "    </tr>\n",
       "    <tr>\n",
       "      <th>182</th>\n",
       "      <td>Match Thread: 41st match - England v New Zealand</td>\n",
       "      <td>41st match - England v New Zealand</td>\n",
       "      <td>1</td>\n",
       "      <td>1562139302</td>\n",
       "      <td>CricketMatchBot</td>\n",
       "      <td>17470</td>\n",
       "      <td>586</td>\n",
       "      <td>True</td>\n",
       "      <td>2019-07-03</td>\n",
       "      <td>2</td>\n",
       "      <td>Wednsday</td>\n",
       "    </tr>\n",
       "    <tr>\n",
       "      <th>359</th>\n",
       "      <td>Match Thread: 25th match - New Zealand v South...</td>\n",
       "      <td>25th match - New Zealand v South Africa</td>\n",
       "      <td>1</td>\n",
       "      <td>1560930016</td>\n",
       "      <td>CricketMatchBot</td>\n",
       "      <td>10575</td>\n",
       "      <td>505</td>\n",
       "      <td>True</td>\n",
       "      <td>2019-06-19</td>\n",
       "      <td>2</td>\n",
       "      <td>Wednsday</td>\n",
       "    </tr>\n",
       "  </tbody>\n",
       "</table>\n",
       "</div>"
      ],
      "text/plain": [
       "                                                 title  \\\n",
       "44           Match Thread: 1st ODI - India v Australia   \n",
       "467          Match Thread: 2nd ODI - India v Australia   \n",
       "479  Match Thread: 3rd Test - Australia v New Zeala...   \n",
       "61   Match Thread: 2nd Test - England v Australia, ...   \n",
       "216  Match Thread: 2nd Test - England v Australia, ...   \n",
       "96   Match Thread: 1st Test - England v Australia, ...   \n",
       "370  Match Thread: 1st Test - England v Australia, ...   \n",
       "182   Match Thread: 41st match - England v New Zealand   \n",
       "359  Match Thread: 25th match - New Zealand v South...   \n",
       "\n",
       "                                              selftext  subreddit  \\\n",
       "44                         1st ODI - India v Australia          1   \n",
       "467                        2nd ODI - India v Australia          1   \n",
       "479  ###3rd Test, ICC World Test Championship at Sy...          1   \n",
       "61               2nd Test - England v Australia, Day 4          1   \n",
       "216              2nd Test - England v Australia, Day 5          1   \n",
       "96               1st Test - England v Australia, Day 2          1   \n",
       "370              1st Test - England v Australia, Day 4          1   \n",
       "182                 41st match - England v New Zealand          1   \n",
       "359            25th match - New Zealand v South Africa          1   \n",
       "\n",
       "     created_utc           author  num_comments  score  is_self  timestamp  \\\n",
       "44    1578982362  CricketMatchBot         14378      1     True 2020-01-14   \n",
       "467   1579241683  CricketMatchBot         15126      1     True 2020-01-17   \n",
       "479   1578001159  CricketMatchBot         14182    332     True 2020-01-02   \n",
       "61    1566029688  CricketMatchBot         13182    310     True 2019-08-17   \n",
       "216   1566116021  CricketMatchBot         12662    346     True 2019-08-18   \n",
       "96    1564733461  CricketMatchBot         10263    413     True 2019-08-02   \n",
       "370   1564906164  CricketMatchBot         13813    386     True 2019-08-04   \n",
       "182   1562139302  CricketMatchBot         17470    586     True 2019-07-03   \n",
       "359   1560930016  CricketMatchBot         10575    505     True 2019-06-19   \n",
       "\n",
       "     day   weekday  \n",
       "44     1   Tuesday  \n",
       "467    4    Friday  \n",
       "479    3  Thursday  \n",
       "61     5  Saturday  \n",
       "216    6    Sunday  \n",
       "96     4    Friday  \n",
       "370    6    Sunday  \n",
       "182    2  Wednsday  \n",
       "359    2  Wednsday  "
      ]
     },
     "execution_count": 23,
     "metadata": {},
     "output_type": "execute_result"
    }
   ],
   "source": [
    "# finding the posts those have has more than 10000 \n",
    "df1_comments = combined_df[(combined_df['subreddit'] == 1) & (combined_df['num_comments']> 10000)]\n",
    "df1_comments"
   ]
  },
  {
   "cell_type": "code",
   "execution_count": null,
   "metadata": {},
   "outputs": [],
   "source": []
  },
  {
   "cell_type": "code",
   "execution_count": 24,
   "metadata": {},
   "outputs": [
    {
     "data": {
      "image/png": "[encoded data removed]",
      "text/plain": [
       "<Figure size 2160x1440 with 1 Axes>"
      ]
     },
     "metadata": {},
     "output_type": "display_data"
    }
   ],
   "source": [
    "# visualizing the top commented posts.\n",
    "plt.figure(figsize=(30,20))\n",
    "plt.title ('Top commented post',\n",
    "           size=45);\n",
    "sns.barplot(data=df1_comments.sort_values('num_comments',ascending=False),\n",
    "            y='title',\n",
    "            x='num_comments',\n",
    "            palette=\"gist_earth\")\n",
    "plt.ylabel('Comments', size = 35);\n",
    "plt.xlabel('Word Count (#)', size = 35);\n",
    "plt.yticks(size = 25);\n",
    "plt.xticks(size = 30);"
   ]
  },
  {
   "cell_type": "markdown",
   "metadata": {},
   "source": [
    "### Finding the most frequently used words"
   ]
  },
  {
   "cell_type": "code",
   "execution_count": 25,
   "metadata": {},
   "outputs": [],
   "source": [
    "# finding the most frequently used words\n",
    "cvec = CountVectorizer( stop_words = 'english')\n",
    "combined_df_cv = cvec.fit(combined_df['title'])"
   ]
  },
  {
   "cell_type": "code",
   "execution_count": 26,
   "metadata": {},
   "outputs": [
    {
     "data": {
      "text/html": [
       "<div>\n",
       "<style scoped>\n",
       "    .dataframe tbody tr th:only-of-type {\n",
       "        vertical-align: middle;\n",
       "    }\n",
       "\n",
       "    .dataframe tbody tr th {\n",
       "        vertical-align: top;\n",
       "    }\n",
       "\n",
       "    .dataframe thead th {\n",
       "        text-align: right;\n",
       "    }\n",
       "</style>\n",
       "<table border=\"1\" class=\"dataframe\">\n",
       "  <thead>\n",
       "    <tr style=\"text-align: right;\">\n",
       "      <th></th>\n",
       "      <th>Count_Vectorizer(units)</th>\n",
       "    </tr>\n",
       "  </thead>\n",
       "  <tbody>\n",
       "    <tr>\n",
       "      <th>match</th>\n",
       "      <td>1276</td>\n",
       "    </tr>\n",
       "    <tr>\n",
       "      <th>thread</th>\n",
       "      <td>1105</td>\n",
       "    </tr>\n",
       "    <tr>\n",
       "      <th>vs</th>\n",
       "      <td>679</td>\n",
       "    </tr>\n",
       "    <tr>\n",
       "      <th>cricket</th>\n",
       "      <td>324</td>\n",
       "    </tr>\n",
       "    <tr>\n",
       "      <th>league</th>\n",
       "      <td>309</td>\n",
       "    </tr>\n",
       "    <tr>\n",
       "      <th>test</th>\n",
       "      <td>275</td>\n",
       "    </tr>\n",
       "    <tr>\n",
       "      <th>post</th>\n",
       "      <td>273</td>\n",
       "    </tr>\n",
       "    <tr>\n",
       "      <th>cup</th>\n",
       "      <td>261</td>\n",
       "    </tr>\n",
       "    <tr>\n",
       "      <th>2019</th>\n",
       "      <td>257</td>\n",
       "    </tr>\n",
       "    <tr>\n",
       "      <th>world</th>\n",
       "      <td>225</td>\n",
       "    </tr>\n",
       "  </tbody>\n",
       "</table>\n",
       "</div>"
      ],
      "text/plain": [
       "         Count_Vectorizer(units)\n",
       "match                       1276\n",
       "thread                      1105\n",
       "vs                           679\n",
       "cricket                      324\n",
       "league                       309\n",
       "test                         275\n",
       "post                         273\n",
       "cup                          261\n",
       "2019                         257\n",
       "world                        225"
      ]
     },
     "execution_count": 26,
     "metadata": {},
     "output_type": "execute_result"
    }
   ],
   "source": [
    "#Thanks to Varun / Ruchika for helping in this logic\n",
    "combined_df_cv = pd.DataFrame(cvec.transform(combined_df['title']).todense(),columns=cvec.get_feature_names())\n",
    "highest_cv = combined_df_cv.sum(axis=0)\n",
    "combined_df_cvec = highest_cv.sort_values(ascending = False).head(10)\n",
    "combined_df_cvec = pd.DataFrame(combined_df_cvec, columns = ['Count_Vectorizer(units)'])\n",
    "combined_df_cvec"
   ]
  },
  {
   "cell_type": "code",
   "execution_count": 27,
   "metadata": {},
   "outputs": [],
   "source": [
    "# creating the list of stop words\n",
    "stopwords = nltk.corpus.stopwords.words('english')\n",
    "newStopWords = list(combined_df_cvec.index) #popular words from post\n",
    "stopwords.extend(newStopWords) # updating the standard stop words"
   ]
  },
  {
   "cell_type": "code",
   "execution_count": 28,
   "metadata": {},
   "outputs": [],
   "source": [
    "stopwords1 = nltk.corpus.stopwords.words('english').append(['soccer', 'cricket'])"
   ]
  },
  {
   "cell_type": "code",
   "execution_count": 29,
   "metadata": {},
   "outputs": [
    {
     "data": {
      "image/png": "[encoded data removed]",
      "text/plain": [
       "<Figure size 1080x720 with 1 Axes>"
      ]
     },
     "metadata": {},
     "output_type": "display_data"
    }
   ],
   "source": [
    "plt.figure(figsize=(15,10))\n",
    "sns.barplot(data=combined_df_cvec,\n",
    "            y=list(combined_df_cvec.index),\n",
    "            x='Count_Vectorizer(units)',\n",
    "            palette=\"ocean\");\n",
    "#Setting the title to size 30\n",
    "plt.title ('Most Common Words in Cricket / Soccer',\n",
    "           size=27);\n",
    "plt.ylabel('High frequency words', size = 30);\n",
    "plt.xlabel('Word Count (#)', size = 30);\n",
    "#setting size of yticks and xticks to 25\n",
    "plt.yticks(size = 25);\n",
    "plt.xticks(size = 25);"
   ]
  },
  {
   "cell_type": "markdown",
   "metadata": {},
   "source": [
    "## Preprocessing & Modeling"
   ]
  },
  {
   "cell_type": "markdown",
   "metadata": {},
   "source": [
    "### Base line model"
   ]
  },
  {
   "cell_type": "code",
   "execution_count": 30,
   "metadata": {},
   "outputs": [],
   "source": [
    "# Train test split\n",
    "X = combined_df['title']\n",
    "y = combined_df['subreddit']\n",
    "\n",
    "X_train, X_test, y_train, y_test = train_test_split(X, y, random_state = 42, test_size = 0.3, stratify = y)"
   ]
  },
  {
   "cell_type": "code",
   "execution_count": 31,
   "metadata": {},
   "outputs": [
    {
     "data": {
      "text/plain": [
       "1    0.544166\n",
       "0    0.455834\n",
       "Name: subreddit, dtype: float64"
      ]
     },
     "execution_count": 31,
     "metadata": {},
     "output_type": "execute_result"
    }
   ],
   "source": [
    "#calculating base line score. \n",
    "y.value_counts(normalize = True)"
   ]
  },
  {
   "cell_type": "markdown",
   "metadata": {},
   "source": [
    " **Base Line score of our model is 0.54**"
   ]
  },
  {
   "cell_type": "code",
   "execution_count": 32,
   "metadata": {},
   "outputs": [],
   "source": [
    "#with help from Ruchika on the logic\n",
    "def pre_process(string):\n",
    "    string = re.sub('[0-9]+', '', string) # using regex converting numbers to ''\n",
    "    lemmatizer = WordNetLemmatizer() # lemmatizing the text\n",
    "    lem_list = []\n",
    "    strings = string.split()\n",
    "    for word in strings:\n",
    "        lem_string = lemmatizer.lemmatize(word) \n",
    "        lem_list.append(lem_string)\n",
    "    lem_sentence = ' '.join(lem_list)\n",
    "    return lem_sentence"
   ]
  },
  {
   "cell_type": "markdown",
   "metadata": {},
   "source": [
    "### Logistics  - Count vec "
   ]
  },
  {
   "cell_type": "code",
   "execution_count": 33,
   "metadata": {},
   "outputs": [],
   "source": [
    "# From Mahdi's local lessons \n",
    "# using pipe function to \n",
    "\n",
    "pipe = Pipeline(steps = [('vectorizer', CountVectorizer(pre_process)), # first tuple is for first step: vectorizer\n",
    "                         ('model', LogisticRegression(solver = 'liblinear'))\n",
    "                         \n",
    "                        ])    \n",
    "\n",
    "# Construct Grid Parameters\n",
    "hyperparams = {'vectorizer__ngram_range': [(1,1), (1,2)],\n",
    "               'vectorizer__stop_words': [stopwords1, stopwords, None ],\n",
    "               'vectorizer__max_features' : [100,500],# how to make sure all test cases\n",
    "                                                        # use a single value that isn't built into\n",
    "                                                        # the defaults (otw: stopwords left in)\n",
    "               'model__penalty': ['l1', 'l2'], # for Ridge and Lasso\n",
    "               'model__C': [3, 10, 1000]\n",
    "                \n",
    "              }\n",
    "\n",
    " # Perform Grid Search\n",
    "gs = GridSearchCV(pipe, # pipeline object replaces what we usually had as empty model class\n",
    "                 param_grid=hyperparams,\n",
    "                 cv = 3,\n",
    "                 scoring = 'accuracy')\n",
    "results = gs.fit(X_train, y_train)"
   ]
  },
  {
   "cell_type": "code",
   "execution_count": 34,
   "metadata": {},
   "outputs": [
    {
     "data": {
      "text/plain": [
       "0.9186966149952547"
      ]
     },
     "execution_count": 34,
     "metadata": {},
     "output_type": "execute_result"
    }
   ],
   "source": [
    "#running score with best params\n",
    "gs_model = gs.best_estimator_\n",
    "gs_model.score(X_train, y_train)"
   ]
  },
  {
   "cell_type": "code",
   "execution_count": 35,
   "metadata": {},
   "outputs": [
    {
     "name": "stdout",
     "output_type": "stream",
     "text": [
      "Best CV accuracy: 0.8538\n",
      "Best TRAIN set accuracy: 0.9187\n",
      "Best TEST set accuracy: 0.8709\n"
     ]
    }
   ],
   "source": [
    "# Get score\n",
    "train_score = gs.best_score_\n",
    "print('Best CV accuracy: {:.4f}'.format(train_score))\n",
    "\n",
    "test_score = gs.score(X_train, y_train)\n",
    "print('Best TRAIN set accuracy: {:.4f}'.format(test_score))\n",
    "\n",
    "test_score = gs.score(X_test, y_test)\n",
    "print('Best TEST set accuracy: {:.4f}'.format(test_score))"
   ]
  },
  {
   "cell_type": "markdown",
   "metadata": {},
   "source": [
    "**Interpretation of the model : The above Logistic Regression model with CountVectorizer has accuracy of 0.92 for my training set and has accuracy 0.87 for my testing set. This model outpeformed my baseline model score of 0.54**"
   ]
  },
  {
   "cell_type": "markdown",
   "metadata": {},
   "source": [
    "###  Logistic - TFIDF"
   ]
  },
  {
   "cell_type": "code",
   "execution_count": 36,
   "metadata": {},
   "outputs": [],
   "source": [
    "# From Mahdi's local lessons \n",
    "\n",
    "pipe = Pipeline(steps = [('vectorizer', TfidfVectorizer(pre_process)), # first tuple is for first step: vectorizer\n",
    "                         ('model', LogisticRegression(solver = 'liblinear'))\n",
    "                         \n",
    "                        ])    \n",
    "\n",
    "# Construct Grid Parameters\n",
    "hyperparams = {'vectorizer__ngram_range': [(1,1), (1,2)],\n",
    "               'vectorizer__stop_words': ['english', stopwords, None ],\n",
    "               'vectorizer__max_features' : [100,500],# how to make sure all test cases\n",
    "                                                        # use a single value that isn't built into\n",
    "                                                        # the defaults (otw: stopwords left in)\n",
    "               'model__penalty': ['l1', 'l2'], # for Ridge and Lasso\n",
    "               'model__C': [3, 10, 1000]\n",
    "                \n",
    "              }\n",
    "\n",
    " # Perform Grid Search\n",
    "gs_tfdf = GridSearchCV(pipe, # pipeline object replaces what we usually had as empty model class\n",
    "                 param_grid=hyperparams,\n",
    "                 cv = 3,\n",
    "                 scoring = 'accuracy')\n",
    "results = gs_tfdf.fit(X_train, y_train)"
   ]
  },
  {
   "cell_type": "code",
   "execution_count": 37,
   "metadata": {},
   "outputs": [],
   "source": [
    "# predicting \n",
    "preds_tfdf = gs_tfdf.predict(X_test)"
   ]
  },
  {
   "cell_type": "code",
   "execution_count": 38,
   "metadata": {},
   "outputs": [
    {
     "data": {
      "text/plain": [
       "0.9190129705789307"
      ]
     },
     "execution_count": 38,
     "metadata": {},
     "output_type": "execute_result"
    }
   ],
   "source": [
    "#running score with best params\n",
    "gs_tfdf_model = gs_tfdf.best_estimator_\n",
    "gs_tfdf_model.score(X_train, y_train)"
   ]
  },
  {
   "cell_type": "code",
   "execution_count": 39,
   "metadata": {},
   "outputs": [
    {
     "name": "stdout",
     "output_type": "stream",
     "text": [
      "Best TRAIN set accuracy: 0.9190\n",
      "Best TEST set accuracy: 0.8798\n"
     ]
    }
   ],
   "source": [
    "# Get score\n",
    "\n",
    "test_score = gs_tfdf.score(X_train, y_train)\n",
    "print('Best TRAIN set accuracy: {:.4f}'.format(test_score))\n",
    "\n",
    "test_score = gs_tfdf.score(X_test, y_test)\n",
    "print('Best TEST set accuracy: {:.4f}'.format(test_score))"
   ]
  },
  {
   "cell_type": "markdown",
   "metadata": {},
   "source": [
    "**Interpretation of the model : The above Logistic Regression model with Tfidf Vectorizer has accuracy of 0.91 for my training set and has accuracy 0.88 for my testing set. This model outperformed my baseline model score of 0.54**"
   ]
  },
  {
   "cell_type": "markdown",
   "metadata": {},
   "source": [
    "###  Gaussian - Count vec "
   ]
  },
  {
   "cell_type": "code",
   "execution_count": 40,
   "metadata": {},
   "outputs": [],
   "source": [
    "# adapted from https://stackoverflow.com/questions/28384680/scikit-learns-pipeline-a-sparse-matrix-was-passed-but-dense-data-is-required\n",
    "class DenseTransformer(TransformerMixin):\n",
    "    def fit(self, X, y=None, **fit_params):\n",
    "        return self\n",
    "\n",
    "    def transform(self, X, y=None, **fit_params):\n",
    "        return X.toarray()"
   ]
  },
  {
   "cell_type": "code",
   "execution_count": 41,
   "metadata": {},
   "outputs": [],
   "source": [
    "cvec_guasNB_pipe_list = [\n",
    "    (\"cvec\", CountVectorizer()),\n",
    "    (\"_\",DenseTransformer()),\n",
    "    (\"guas\", GaussianNB())\n",
    "]\n",
    "\n",
    "cvec_guasNB_params = {\n",
    "    'cvec__max_features': [100,1000],\n",
    "    'cvec__max_df': [.5,.8],\n",
    "    'cvec__ngram_range': [(1,1),(1,2)],\n",
    "    'cvec__stop_words': ['english', None],\n",
    "}\n",
    "\n",
    "pipe = Pipeline(cvec_guasNB_pipe_list)\n",
    "\n",
    "cvec_guasNB = GridSearchCV(pipe, cvec_guasNB_params, cv = 5, scoring = 'accuracy')"
   ]
  },
  {
   "cell_type": "code",
   "execution_count": 42,
   "metadata": {},
   "outputs": [],
   "source": [
    "model = cvec_guasNB.fit(X_train, y_train)"
   ]
  },
  {
   "cell_type": "code",
   "execution_count": 43,
   "metadata": {},
   "outputs": [
    {
     "name": "stdout",
     "output_type": "stream",
     "text": [
      "Best TRAIN accuracy: 0.8671\n",
      "Best TEST set accuracy: 0.8628\n"
     ]
    }
   ],
   "source": [
    "# Get score\n",
    "train_score = model.best_score_\n",
    "print('Best TRAIN accuracy: {:.4f}'.format(train_score))\n",
    "test_score = model.score(X_test, y_test)\n",
    "print('Best TEST set accuracy: {:.4f}'.format(test_score))"
   ]
  },
  {
   "cell_type": "markdown",
   "metadata": {},
   "source": [
    "**Interpretation of the model : The above Gaussian NB model with Count Vectorizer has accuracy of 0.87 for my training set and has accuracy 0.86 for my testing set. This model outperformed my baseline model score of 0.54**"
   ]
  },
  {
   "cell_type": "markdown",
   "metadata": {},
   "source": [
    "### Multinomial - TFIDF"
   ]
  },
  {
   "cell_type": "code",
   "execution_count": 44,
   "metadata": {},
   "outputs": [],
   "source": [
    "pipe_tf_mn = Pipeline(steps = [('vectorizer', TfidfVectorizer()),     # first tuple is for first step: vectorizer\n",
    "                         ('model', MultinomialNB()),\n",
    "                        # second tuple is for second step: model\n",
    "                        ])    \n",
    "\n",
    "# Construct Grid Parameters\n",
    "hyperparams = {'vectorizer__ngram_range': [(1,1), (1,2)],\n",
    "               'vectorizer__stop_words': ['english', None],\n",
    "               'vectorizer__max_features' : [100,500]} # how to make sure all test cases\n",
    "                                                        # use a single value that isn't built into\n",
    "                                                        # the defaults (otw: stopwords left\n",
    "\n",
    " # Perform Grid Search\n",
    "gs_bayes_tf_mn = GridSearchCV(pipe_tf_mn, # pipeline object replaces what we usually had as empty model class\n",
    "                 param_grid=hyperparams,\n",
    "                 cv = 3,\n",
    "                 scoring = 'accuracy')"
   ]
  },
  {
   "cell_type": "code",
   "execution_count": 45,
   "metadata": {},
   "outputs": [
    {
     "name": "stdout",
     "output_type": "stream",
     "text": [
      "Best TRAIN accuracy: 0.8671\n",
      "Best TEST set accuracy: 0.8614\n"
     ]
    }
   ],
   "source": [
    "results_bayes_tf = gs_bayes_tf_mn.fit(X_train, y_train)\n",
    "print('Best TRAIN accuracy: {:.4f}'.format(train_score))\n",
    "test_score = results_bayes_tf.score(X_test, y_test)\n",
    "print('Best TEST set accuracy: {:.4f}'.format(test_score))"
   ]
  },
  {
   "cell_type": "markdown",
   "metadata": {},
   "source": [
    "**Interpretation of the model : The above Multinomial NB model with Count Vectorizer has accuracy of 0.87 for my training set and has accuracy 0.86 for my testing set. This model outperformed my baseline model score of 0.54**"
   ]
  },
  {
   "cell_type": "markdown",
   "metadata": {},
   "source": [
    "### Random Forest"
   ]
  },
  {
   "cell_type": "code",
   "execution_count": 46,
   "metadata": {},
   "outputs": [],
   "source": [
    "rf = RandomForestClassifier(n_estimators=100)"
   ]
  },
  {
   "cell_type": "code",
   "execution_count": 47,
   "metadata": {},
   "outputs": [],
   "source": [
    "et = ExtraTreesClassifier(n_estimators=100)"
   ]
  },
  {
   "cell_type": "code",
   "execution_count": 48,
   "metadata": {},
   "outputs": [],
   "source": [
    "pipe_rf = Pipeline(steps = [('vectorizer', TfidfVectorizer()),     # first tuple is for first step: vectorizer\n",
    "                         ('rf', RandomForestClassifier(n_estimators=100)),\n",
    "                        # second tuple is for second step: model\n",
    "                        ])    \n",
    "\n",
    "# Construct Grid Parameters\n",
    "hyperparams = {'vectorizer__ngram_range': [(1,1), (1,2)],\n",
    "               'vectorizer__stop_words': ['english', None],\n",
    "               'vectorizer__max_features' : [100,500]} # how to make sure all test cases\n",
    "                                                        # use a single value that isn't built into\n",
    "                                                        # the defaults (otw: stopwords left\n",
    "\n",
    " # Perform Grid Search\n",
    "gs_rf = GridSearchCV(pipe_tf_mn, # pipeline object replaces what we usually had as empty model class\n",
    "                 param_grid=hyperparams,\n",
    "                 cv = 3,\n",
    "                 scoring = 'accuracy')"
   ]
  },
  {
   "cell_type": "code",
   "execution_count": 49,
   "metadata": {},
   "outputs": [
    {
     "name": "stdout",
     "output_type": "stream",
     "text": [
      "Best TRAIN accuracy: 0.8671\n",
      "Best TEST set accuracy: 0.8614\n"
     ]
    }
   ],
   "source": [
    "results_gs_rf = gs_rf.fit(X_train, y_train)\n",
    "print('Best TRAIN accuracy: {:.4f}'.format(train_score))\n",
    "test_score = results_gs_rf.score(X_test, y_test)\n",
    "print('Best TEST set accuracy: {:.4f}'.format(test_score))"
   ]
  },
  {
   "cell_type": "markdown",
   "metadata": {},
   "source": [
    "**Interpretation of the model : The above RandomForest Classifier model with Tfidf Vectorizer has accuracy of 0.87 for my training set and has accuracy 0.86 for my testing set. This model outperformed my baseline model score of 0.54**"
   ]
  },
  {
   "cell_type": "markdown",
   "metadata": {},
   "source": [
    "## Model Selection and Evaluation "
   ]
  },
  {
   "cell_type": "markdown",
   "metadata": {},
   "source": [
    "I will be using the following criteria to evaluate my model:\n",
    "\n",
    "\n",
    "**The model I have chosen to evaluate is Logistic Regression with TFIDF vectorizer**\n",
    "\n",
    "\n",
    "1) Testing Accuracy Score\n",
    "\n",
    "2) Confusion Matrix\n",
    "\n",
    "3) ROC Curve"
   ]
  },
  {
   "cell_type": "markdown",
   "metadata": {},
   "source": [
    "**Model performance at a glance :**\n",
    "\n",
    "| Vect .     | Classifier | Train Score | Test Score |\n",
    "|------------|------------|-------------|------------|\n",
    "|            | Base Line  | 0.54        |            |\n",
    "| Count vect | LogisticReg| 0.91        | 0.88       |\n",
    "| TfidfVec   | LogisticReg| 0.92        | 0.88       |\n",
    "| Count vect | GaussianNB | 0.87        | 0.86       |\n",
    "| TFIDF      | Multinomial| 0.87        | 0.86       |\n",
    "| TFIDF      | Randm Forst| 0.87        | 0.87       |\n",
    "\n",
    "Logistic regression with TFIDF vectorizer produced better results than other machine models ."
   ]
  },
  {
   "cell_type": "markdown",
   "metadata": {},
   "source": [
    "#### Testing Accuracy Score"
   ]
  },
  {
   "cell_type": "code",
   "execution_count": 55,
   "metadata": {},
   "outputs": [
    {
     "name": "stdout",
     "output_type": "stream",
     "text": [
      "Best TRAIN set accuracy: 0.9190\n",
      "Best TEST set accuracy: 0.8798\n"
     ]
    }
   ],
   "source": [
    "# Accuracy score for Logistic regression with TFIDF vectorizer\n",
    "\n",
    "test_score = gs_tfdf.score(X_train, y_train)\n",
    "print('Best TRAIN set accuracy: {:.4f}'.format(test_score))\n",
    "\n",
    "test_score = gs_tfdf.score(X_test, y_test)\n",
    "print('Best TEST set accuracy: {:.4f}'.format(test_score))"
   ]
  },
  {
   "cell_type": "markdown",
   "metadata": {},
   "source": [
    "#### Confusion Matrix - Logistic regression with Count vectorizer and TFIDF vectorize"
   ]
  },
  {
   "cell_type": "markdown",
   "metadata": {},
   "source": [
    "**Building confusion Matrix for my best performing TFIDF model**"
   ]
  },
  {
   "cell_type": "code",
   "execution_count": 50,
   "metadata": {},
   "outputs": [],
   "source": [
    "def c_confusion_matrix(y_true, y_pred):\n",
    "    # handling data\n",
    "    cm = confusion_matrix(y_true, y_pred)\n",
    "    labels = y_true.unique()\n",
    "    labels.sort()\n",
    "    \n",
    "    # plotting\n",
    "    sns.set(font_scale=1.2)\n",
    "    plt.figure(figsize=(10,4))\n",
    "    \n",
    "    sns.heatmap(cm, annot=True, fmt='g', cmap=\"YlGnBu\",xticklabels=labels, yticklabels=labels)\n",
    "    plt.title(\"Confusion Matrix\")\n",
    "    plt.xlabel('Predicted Class')\n",
    "    plt.ylabel('True Class')"
   ]
  },
  {
   "cell_type": "code",
   "execution_count": 51,
   "metadata": {},
   "outputs": [
    {
     "data": {
      "image/png": "[encoded data removed]",
      "text/plain": [
       "<Figure size 720x288 with 2 Axes>"
      ]
     },
     "metadata": {},
     "output_type": "display_data"
    }
   ],
   "source": [
    "# get predictions\n",
    "preds_tfdf = gs_tfdf.predict(X_test)\n",
    "c_confusion_matrix(y_test, preds_tfdf)"
   ]
  },
  {
   "cell_type": "markdown",
   "metadata": {},
   "source": [
    " - The \"1\" which is Cricket category is predicted correctly => True positive score = 687\n",
    " - The \"1\" which is Cricket category is predicted incorrectly => False positive = 51\n",
    " - The \"0\" which is 'Soccer' category is predicted correctly => True negative = 506\n",
    " - The \"0\" which is 'Soccer' category is predicted incorrectly => False positive = 112"
   ]
  },
  {
   "cell_type": "markdown",
   "metadata": {},
   "source": [
    "**Confusion Matrix Scores:**\n",
    "\n",
    "\n",
    " - Accuracy Score = 0.88\n",
    "\n",
    " - Misclassification Score = 0.12\n",
    "\n",
    " - Specificity = 0.82 (TN / (TN + FP))\n",
    "\n",
    " - Precision = 0.86 (TN/TN + TP)\n",
    "\n",
    " - Sensitivity = 0.93 (TP/TP + FN)\n",
    "\n"
   ]
  },
  {
   "cell_type": "markdown",
   "metadata": {},
   "source": [
    "#### ROC AUC Curve"
   ]
  },
  {
   "cell_type": "markdown",
   "metadata": {},
   "source": [
    "Receiver Operating Characteristic (ROC) Curve  & Area under the ROC curve\n",
    " - I am using Receiver Operating Characteristic curve to visualize the overlap between my positive class and negative class by moving our classification threshold from 0 to 1.\n",
    " \n",
    " - I am using the **area under the ROC curve** (abbreviated **ROC AUC** or **AUC ROC**) to quantify the gap between our distributions."
   ]
  },
  {
   "cell_type": "code",
   "execution_count": 52,
   "metadata": {},
   "outputs": [],
   "source": [
    "pred_proba = [i[1] for i in gs_tfdf.predict_proba(X_test)]\n",
    "pred_df = pd.DataFrame({'true_values': y_test,\n",
    "                        'pred_probs':pred_proba})"
   ]
  },
  {
   "cell_type": "code",
   "execution_count": 53,
   "metadata": {},
   "outputs": [
    {
     "data": {
      "text/plain": [
       "0.958179852834127"
      ]
     },
     "execution_count": 53,
     "metadata": {},
     "output_type": "execute_result"
    }
   ],
   "source": [
    "from sklearn.metrics import roc_auc_score\n",
    "roc_auc_score(pred_df['true_values'], pred_df['pred_probs'])"
   ]
  },
  {
   "cell_type": "code",
   "execution_count": 54,
   "metadata": {},
   "outputs": [
    {
     "data": {
      "image/png": "[encoded data removed]",
      "text/plain": [
       "<Figure size 720x504 with 1 Axes>"
      ]
     },
     "metadata": {},
     "output_type": "display_data"
    }
   ],
   "source": [
    "# Create figure.\n",
    "plt.figure(figsize = (10,7))\n",
    "# Create threshold values.\n",
    "thresholds = np.linspace(0, 1, 200)\n",
    "# Define function to calculate sensitivity. (True positive rate.)\n",
    "def TPR(df, true_col, pred_prob_col, threshold):\n",
    "    true_positive = df[(df[true_col] == 1) & (df[pred_prob_col] >= threshold)].shape[0]\n",
    "    false_negative = df[(df[true_col] == 1) & (df[pred_prob_col] < threshold)].shape[0]\n",
    "    return true_positive / (true_positive + false_negative)\n",
    "# Define function to calculate 1 - specificity. (False positive rate.)\n",
    "def FPR(df, true_col, pred_prob_col, threshold):\n",
    "    true_negative = df[(df[true_col] == 0) & (df[pred_prob_col] <= threshold)].shape[0]\n",
    "    false_positive = df[(df[true_col] == 0) & (df[pred_prob_col] > threshold)].shape[0]\n",
    "    return 1 - (true_negative / (true_negative + false_positive))\n",
    "# Calculate sensitivity & 1-specificity for each threshold between 0 and 1.\n",
    "tpr_values = [TPR(pred_df, 'true_values', 'pred_probs', prob) for prob in thresholds]\n",
    "fpr_values = [FPR(pred_df, 'true_values', 'pred_probs', prob) for prob in thresholds]\n",
    "# Plot ROC curve.\n",
    "plt.plot(fpr_values, # False Positive Rate on X-axis\n",
    "         tpr_values, # True Positive Rate on Y-axis\n",
    "         label='ROC Curve')\n",
    "# Plot baseline. (Perfect overlap between the two populations.)\n",
    "plt.plot(np.linspace(0, 1, 200),\n",
    "         np.linspace(0, 1, 200),\n",
    "         label='baseline',\n",
    "         linestyle='--')\n",
    "# Label axes.\n",
    "plt.title(f'Cricket Vs Soccer ROC Curve with AUC = {round(roc_auc_score(pred_df[\"true_values\"], pred_df[\"pred_probs\"]),3)}', fontsize=22)\n",
    "plt.ylabel('Sensitivity', fontsize=18)\n",
    "plt.xlabel('1 - Specificity', fontsize=18)\n",
    "# Create legend.\n",
    "plt.legend(fontsize=16);"
   ]
  },
  {
   "cell_type": "markdown",
   "metadata": {},
   "source": [
    "##### Interpreting ROC AUC\n",
    "\n",
    "**We have an ROC AUC of close to 1.In otherwords in our Logistics Regression model our Cricket (positive) and Soccer (negative) populations are 95% perfectly separated. Looking at our model we can conclude that our model is very close to as good as it can get.**"
   ]
  },
  {
   "cell_type": "markdown",
   "metadata": {},
   "source": [
    "## Conclusion and Recommendations"
   ]
  },
  {
   "cell_type": "markdown",
   "metadata": {},
   "source": [
    "**Conclusions :**\n",
    "Using Pushshift's API we have successfully collected data from two of the subreddits viz. Cricket and Soccer. After doing the initial cleanup we have concatenated the dataframes to be used for training the model.\n",
    "During the EDA we were able to find the most engaging posts,trend of the daywise engagement from Fans and most frequent words. \n",
    "Using NLP we have trained our classifiers. We have calaculated Base Line Score (Section 5.1), Logistic Regression Model score (Section 5.2 and 5.3), Gaussian NB Model (Section 5.4), Multinomial NB (Section 5.5) and Random Forest Model(Section 5.6) during our modeling process. We have used Count Vectorizer and TFIDF Vectorizer in our models.\n",
    "\n",
    "**All the models we have trained outperformed the Base Line model. TFIDF vector with Logostics Regression had the best Train and Test score. The scores were 0.92 on the Train Score and 0.88 on the Test score.**\n",
    "\n",
    "**Recommendations :**\n",
    "\n",
    "While our mdel trained on Logistic Rgression with TFIDF vectorizer performed better than other models we still think there is a scope of improvement in the accuracy of the models. The present model is also slightly overfit. If we can get more data with different source other than Reddit we will be able to better train our classifiers. We will also like to train our models on other classifiers like Decision tree and Support Vector machines.\n"
   ]
  }
 ],
 "metadata": {
  "kernelspec": {
   "display_name": "Python 3",
   "language": "python",
   "name": "python3"
  },
  "language_info": {
   "codemirror_mode": {
    "name": "ipython",
    "version": 3
   },
   "file_extension": ".py",
   "mimetype": "text/x-python",
   "name": "python",
   "nbconvert_exporter": "python",
   "pygments_lexer": "ipython3",
   "version": "3.7.3"
  },
  "toc": {
   "base_numbering": 1,
   "nav_menu": {},
   "number_sections": true,
   "sideBar": true,
   "skip_h1_title": false,
   "title_cell": "Table of Contents",
   "title_sidebar": "Contents",
   "toc_cell": false,
   "toc_position": {
    "height": "calc(100% - 180px)",
    "left": "10px",
    "top": "150px",
    "width": "191.989px"
   },
   "toc_section_display": true,
   "toc_window_display": true
  }
 },
 "nbformat": 4,
 "nbformat_minor": 2
}
